{
 "cells": [
  {
   "attachments": {},
   "cell_type": "markdown",
   "metadata": {},
   "source": [
    "# Global Illumination Replica\n",
    "\n",
    "Contains script to apply global illumination change to the replica dataset."
   ]
  },
  {
   "cell_type": "code",
   "execution_count": null,
   "metadata": {},
   "outputs": [],
   "source": [
    "# Settings\n",
    "from PIL import Image, ImageEnhance\n",
    "import os\n",
    "import numpy as np\n",
    "from tqdm import tqdm\n",
    "import pathlib\n",
    "import shutil\n",
    "\n",
    "# Set the directory containing the images you want to modify\n",
    "directory = \"../Datasets/Replica/\"\n",
    "output_dir = \"../Datasets/Replica_tmp/\"\n",
    "\n",
    "# Set the desired brightness reduction value (0-255, where 0 is completely dark and 255 is completely bright)\n",
    "brightness_reduction = 150\n",
    "period:int = 100\n",
    "freq = np.pi * 2 / period"
   ]
  },
  {
   "cell_type": "code",
   "execution_count": null,
   "metadata": {},
   "outputs": [],
   "source": [
    "# find all maps\n",
    "maps = [x for x in os.listdir(directory) if not x.startswith(\".\") and os.path.isdir(os.path.join(directory, x))]\n",
    "\n",
    "for map in maps:\n",
    "    print(f\"Processing map {map}...\")\n",
    "\n",
    "    map_path = os.path.join(directory, map, \"results\")\n",
    "    output_map_path = os.path.join(output_dir, map, \"results\")\n",
    "    # copy traj.txt\n",
    "    pathlib.Path(output_map_path).mkdir(parents=True, exist_ok=True)\n",
    "    shutil.copy(os.path.join(map_path, \"../traj.txt\"), os.path.join(output_map_path, \"../traj.txt\"))\n",
    "\n",
    "    # Loop through all the files in the directory\n",
    "    img_files = [x for x in os.listdir(map_path)]\n",
    "    for img_file in tqdm(img_files):\n",
    "        image_path = os.path.join(map_path, img_file)\n",
    "        image_save_path = os.path.join(output_map_path, img_file)\n",
    "        # just copy depth maps\n",
    "        if img_file.startswith(\"depth\"):\n",
    "            shutil.copy(image_path, image_save_path)            \n",
    "            continue\n",
    "        \n",
    "        # Open the image file\n",
    "        img = Image.open(image_path)\n",
    "    \n",
    "        # Reduce the brightness\n",
    "        enhancer = ImageEnhance.Brightness(img)\n",
    "        id = int(img_file.split(\".\")[0][5:])\n",
    "        # sin with cutoff\n",
    "        img = enhancer.enhance(1 + min(0, brightness_reduction*np.sin(freq*id)/255))\n",
    "    \n",
    "        # Save the modified image with a new filename\n",
    "        img.save(image_save_path, \"JPEG\")\n",
    "        \n",
    "\n",
    "print(\"Done!\")"
   ]
  }
 ],
 "metadata": {
  "kernelspec": {
   "display_name": "Python 3",
   "language": "python",
   "name": "python3"
  },
  "language_info": {
   "codemirror_mode": {
    "name": "ipython",
    "version": 3
   },
   "file_extension": ".py",
   "mimetype": "text/x-python",
   "name": "python",
   "nbconvert_exporter": "python",
   "pygments_lexer": "ipython3",
   "version": "3.8.13"
  },
  "orig_nbformat": 4,
  "vscode": {
   "interpreter": {
    "hash": "9bc8e46449ed287a7f723a4e80c282540d07064abd43b01cf731afc113b2b2d9"
   }
  }
 },
 "nbformat": 4,
 "nbformat_minor": 2
}
