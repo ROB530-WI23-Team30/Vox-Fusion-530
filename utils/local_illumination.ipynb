{
 "cells": [
  {
   "cell_type": "code",
   "execution_count": null,
   "metadata": {},
   "outputs": [],
   "source": [
    "# Settings\n",
    "from PIL import Image, ImageEnhance\n",
    "import os\n",
    "import numpy as np\n",
    "from tqdm import tqdm\n",
    "import pathlib\n",
    "import shutil\n",
    "import cv2\n",
    "\n",
    "# Set the directory containing the images you want to modify\n",
    "directory = \"../Datasets/Replica/\"\n",
    "output_dir = \"../Datasets/Replica_tmp/\"\n",
    "skip_interval = 40\n",
    "interval = 10\n",
    "\n",
    "# Set the size of the facula\n",
    "size = 100"
   ]
  },
  {
   "cell_type": "code",
   "execution_count": null,
   "metadata": {},
   "outputs": [],
   "source": [
    "#RANDOM LOCAL ILLUMINATION\n",
    "\n",
    "# find all maps\n",
    "maps = [x for x in os.listdir(directory) if not x.startswith(\".\") and os.path.isdir(os.path.join(directory, x))]\n",
    "\n",
    "for map in maps:\n",
    "    print(f\"Processing map {map}...\")\n",
    "\n",
    "    map_path = os.path.join(directory, map, \"results\")\n",
    "    output_map_path = os.path.join(output_dir, map, \"results\")\n",
    "    # copy traj.txt\n",
    "    pathlib.Path(output_map_path).mkdir(parents=True, exist_ok=True)\n",
    "    shutil.copy(os.path.join(map_path, \"../traj.txt\"), os.path.join(output_map_path, \"../traj.txt\"))\n",
    "\n",
    "    # Loop through all the files in the directory\n",
    "    img_files = [x for x in os.listdir(map_path)]\n",
    "    img_files.sort()\n",
    "    x = None\n",
    "    for img_file in tqdm(img_files):\n",
    "        image_path = os.path.join(map_path, img_file)\n",
    "        image_save_path = os.path.join(output_map_path, img_file)\n",
    "        id = int(img_file.split(\".\")[0][5:])\n",
    "        # just copy depth maps\n",
    "        if img_file.startswith(\"depth\") or id % (skip_interval + interval) < skip_interval:\n",
    "            shutil.copy(image_path, image_save_path)            \n",
    "            continue\n",
    "            \n",
    "        # Open the image\n",
    "        img = cv2.imread(image_path)\n",
    "\n",
    "        height, width = img.shape[:2]\n",
    "\n",
    "        # Generate a random position for the facula\n",
    "        if (id % (skip_interval + interval)) == skip_interval:\n",
    "            x = np.random.randint(size, width - size)\n",
    "            y = np.random.randint(size, height - size)\n",
    "\n",
    "            # Generate a random color for the facula\n",
    "            color = np.random.randint(0, 256, size=(1)).repeat(3).reshape(1, 1, 3)\n",
    "\n",
    "        # Create a circular mask for the facula\n",
    "        mask = np.zeros((size*2, size*2, 3), dtype=np.uint8)\n",
    "        cv2.circle(mask, (size, size), size, (1,1,1), -1)\n",
    "        mask = mask[:size*2, :size*2]\n",
    "        # Add the facula to the image\n",
    "        img[y-size:y+size, x-size:x+size] = color * mask + img[y-size:y+size, x-size:x+size] * (1 - mask)\n",
    "\n",
    "        # Save the modified image with a new filename\n",
    "        cv2.imwrite(image_save_path, img)\n",
    "\n",
    "print(\"Done\")"
   ]
  }
 ],
 "metadata": {
  "kernelspec": {
   "display_name": "Python 3",
   "language": "python",
   "name": "python3"
  },
  "language_info": {
   "codemirror_mode": {
    "name": "ipython",
    "version": 3
   },
   "file_extension": ".py",
   "mimetype": "text/x-python",
   "name": "python",
   "nbconvert_exporter": "python",
   "pygments_lexer": "ipython3",
   "version": "3.8.13"
  },
  "orig_nbformat": 4,
  "vscode": {
   "interpreter": {
    "hash": "9bc8e46449ed287a7f723a4e80c282540d07064abd43b01cf731afc113b2b2d9"
   }
  }
 },
 "nbformat": 4,
 "nbformat_minor": 2
}
